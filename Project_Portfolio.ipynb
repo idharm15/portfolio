{
 "cells": [
  {
   "cell_type": "code",
   "execution_count": 1,
   "id": "5f8da8df-15b1-451b-9f4b-40b1b6113a8f",
   "metadata": {},
   "outputs": [],
   "source": [
    "import pandas as pd\n",
    "import matplotlib.pyplot as plt\n",
    "import numpy as np"
   ]
  },
  {
   "cell_type": "markdown",
   "id": "89dfda19-c86e-4e54-b99b-0209c6d52dd7",
   "metadata": {},
   "source": [
    "***Import Data***"
   ]
  },
  {
   "cell_type": "code",
   "execution_count": 2,
   "id": "8d0dd50e-4c0f-4c52-b94c-19b2f30b6729",
   "metadata": {},
   "outputs": [],
   "source": [
    "electricity = pd.read_csv('electricity-mix-uk.csv')"
   ]
  },
  {
   "cell_type": "markdown",
   "id": "593a3692-b0a7-4e2c-895d-47dd86d5ee82",
   "metadata": {},
   "source": [
    "***Preview Data***"
   ]
  },
  {
   "cell_type": "code",
   "execution_count": 3,
   "id": "dce6a534-19c5-4459-bfcc-8760e1d4fcee",
   "metadata": {},
   "outputs": [
    {
     "data": {
      "text/html": [
       "<div>\n",
       "<style scoped>\n",
       "    .dataframe tbody tr th:only-of-type {\n",
       "        vertical-align: middle;\n",
       "    }\n",
       "\n",
       "    .dataframe tbody tr th {\n",
       "        vertical-align: top;\n",
       "    }\n",
       "\n",
       "    .dataframe thead th {\n",
       "        text-align: right;\n",
       "    }\n",
       "</style>\n",
       "<table border=\"1\" class=\"dataframe\">\n",
       "  <thead>\n",
       "    <tr style=\"text-align: right;\">\n",
       "      <th></th>\n",
       "      <th>Entity</th>\n",
       "      <th>Code</th>\n",
       "      <th>Year</th>\n",
       "      <th>Electricity generation from other renewables</th>\n",
       "      <th>Electricity generation from hydropower</th>\n",
       "      <th>Electricity generation from solar</th>\n",
       "      <th>Electricity generation from wind</th>\n",
       "      <th>Electricity generation from nuclear</th>\n",
       "      <th>Net electricity imports</th>\n",
       "      <th>Electricity generation from oil</th>\n",
       "      <th>Electricity generation from gas</th>\n",
       "      <th>Electricity generation from coal</th>\n",
       "    </tr>\n",
       "  </thead>\n",
       "  <tbody>\n",
       "    <tr>\n",
       "      <th>0</th>\n",
       "      <td>United Kingdom</td>\n",
       "      <td>GBR</td>\n",
       "      <td>1920</td>\n",
       "      <td>0.0</td>\n",
       "      <td>0.012</td>\n",
       "      <td>0.0</td>\n",
       "      <td>0.0</td>\n",
       "      <td>0.0</td>\n",
       "      <td>0.0</td>\n",
       "      <td>0.016422</td>\n",
       "      <td>0.0</td>\n",
       "      <td>3.956950</td>\n",
       "    </tr>\n",
       "    <tr>\n",
       "      <th>1</th>\n",
       "      <td>United Kingdom</td>\n",
       "      <td>GBR</td>\n",
       "      <td>1921</td>\n",
       "      <td>0.0</td>\n",
       "      <td>0.010</td>\n",
       "      <td>0.0</td>\n",
       "      <td>0.0</td>\n",
       "      <td>0.0</td>\n",
       "      <td>0.0</td>\n",
       "      <td>0.103201</td>\n",
       "      <td>0.0</td>\n",
       "      <td>3.501464</td>\n",
       "    </tr>\n",
       "    <tr>\n",
       "      <th>2</th>\n",
       "      <td>United Kingdom</td>\n",
       "      <td>GBR</td>\n",
       "      <td>1922</td>\n",
       "      <td>0.0</td>\n",
       "      <td>0.010</td>\n",
       "      <td>0.0</td>\n",
       "      <td>0.0</td>\n",
       "      <td>0.0</td>\n",
       "      <td>0.0</td>\n",
       "      <td>0.057424</td>\n",
       "      <td>0.0</td>\n",
       "      <td>4.167560</td>\n",
       "    </tr>\n",
       "    <tr>\n",
       "      <th>3</th>\n",
       "      <td>United Kingdom</td>\n",
       "      <td>GBR</td>\n",
       "      <td>1923</td>\n",
       "      <td>0.0</td>\n",
       "      <td>0.013</td>\n",
       "      <td>0.0</td>\n",
       "      <td>0.0</td>\n",
       "      <td>0.0</td>\n",
       "      <td>0.0</td>\n",
       "      <td>0.070453</td>\n",
       "      <td>0.0</td>\n",
       "      <td>4.856229</td>\n",
       "    </tr>\n",
       "    <tr>\n",
       "      <th>4</th>\n",
       "      <td>United Kingdom</td>\n",
       "      <td>GBR</td>\n",
       "      <td>1924</td>\n",
       "      <td>0.0</td>\n",
       "      <td>0.015</td>\n",
       "      <td>0.0</td>\n",
       "      <td>0.0</td>\n",
       "      <td>0.0</td>\n",
       "      <td>0.0</td>\n",
       "      <td>0.076068</td>\n",
       "      <td>0.0</td>\n",
       "      <td>5.548004</td>\n",
       "    </tr>\n",
       "  </tbody>\n",
       "</table>\n",
       "</div>"
      ],
      "text/plain": [
       "           Entity Code  Year  Electricity generation from other renewables  \\\n",
       "0  United Kingdom  GBR  1920                                           0.0   \n",
       "1  United Kingdom  GBR  1921                                           0.0   \n",
       "2  United Kingdom  GBR  1922                                           0.0   \n",
       "3  United Kingdom  GBR  1923                                           0.0   \n",
       "4  United Kingdom  GBR  1924                                           0.0   \n",
       "\n",
       "   Electricity generation from hydropower  Electricity generation from solar  \\\n",
       "0                                   0.012                                0.0   \n",
       "1                                   0.010                                0.0   \n",
       "2                                   0.010                                0.0   \n",
       "3                                   0.013                                0.0   \n",
       "4                                   0.015                                0.0   \n",
       "\n",
       "   Electricity generation from wind  Electricity generation from nuclear  \\\n",
       "0                               0.0                                  0.0   \n",
       "1                               0.0                                  0.0   \n",
       "2                               0.0                                  0.0   \n",
       "3                               0.0                                  0.0   \n",
       "4                               0.0                                  0.0   \n",
       "\n",
       "   Net electricity imports  Electricity generation from oil  \\\n",
       "0                      0.0                         0.016422   \n",
       "1                      0.0                         0.103201   \n",
       "2                      0.0                         0.057424   \n",
       "3                      0.0                         0.070453   \n",
       "4                      0.0                         0.076068   \n",
       "\n",
       "   Electricity generation from gas  Electricity generation from coal  \n",
       "0                              0.0                          3.956950  \n",
       "1                              0.0                          3.501464  \n",
       "2                              0.0                          4.167560  \n",
       "3                              0.0                          4.856229  \n",
       "4                              0.0                          5.548004  "
      ]
     },
     "execution_count": 3,
     "metadata": {},
     "output_type": "execute_result"
    }
   ],
   "source": [
    "electricity.head()"
   ]
  },
  {
   "cell_type": "markdown",
   "id": "f3975a15-d37a-46b1-9048-33774b49395c",
   "metadata": {},
   "source": [
    "***Preview Data***"
   ]
  },
  {
   "cell_type": "code",
   "execution_count": null,
   "id": "d9785dfe-76e0-405f-b2a6-6ff93bf4e4d3",
   "metadata": {},
   "outputs": [],
   "source": []
  },
  {
   "cell_type": "code",
   "execution_count": 4,
   "id": "d4fc6338-707b-4435-b3a3-cb4af94b5003",
   "metadata": {},
   "outputs": [
    {
     "data": {
      "text/plain": [
       "(104, 12)"
      ]
     },
     "execution_count": 4,
     "metadata": {},
     "output_type": "execute_result"
    }
   ],
   "source": [
    "electricity.shape"
   ]
  },
  {
   "cell_type": "code",
   "execution_count": 5,
   "id": "0912767a-deb9-4b40-8a6a-88a6dce61008",
   "metadata": {},
   "outputs": [
    {
     "name": "stdout",
     "output_type": "stream",
     "text": [
      "<class 'pandas.core.frame.DataFrame'>\n",
      "RangeIndex: 104 entries, 0 to 103\n",
      "Data columns (total 12 columns):\n",
      " #   Column                                        Non-Null Count  Dtype  \n",
      "---  ------                                        --------------  -----  \n",
      " 0   Entity                                        104 non-null    object \n",
      " 1   Code                                          104 non-null    object \n",
      " 2   Year                                          104 non-null    int64  \n",
      " 3   Electricity generation from other renewables  104 non-null    float64\n",
      " 4   Electricity generation from hydropower        104 non-null    float64\n",
      " 5   Electricity generation from solar             104 non-null    float64\n",
      " 6   Electricity generation from wind              104 non-null    float64\n",
      " 7   Electricity generation from nuclear           104 non-null    float64\n",
      " 8   Net electricity imports                       104 non-null    float64\n",
      " 9   Electricity generation from oil               104 non-null    float64\n",
      " 10  Electricity generation from gas               104 non-null    float64\n",
      " 11  Electricity generation from coal              104 non-null    float64\n",
      "dtypes: float64(9), int64(1), object(2)\n",
      "memory usage: 9.9+ KB\n"
     ]
    }
   ],
   "source": [
    "electricity.info()"
   ]
  },
  {
   "cell_type": "code",
   "execution_count": 6,
   "id": "195b9f61-2884-4745-b0a9-221b6649ae71",
   "metadata": {},
   "outputs": [
    {
     "data": {
      "text/html": [
       "<div>\n",
       "<style scoped>\n",
       "    .dataframe tbody tr th:only-of-type {\n",
       "        vertical-align: middle;\n",
       "    }\n",
       "\n",
       "    .dataframe tbody tr th {\n",
       "        vertical-align: top;\n",
       "    }\n",
       "\n",
       "    .dataframe thead th {\n",
       "        text-align: right;\n",
       "    }\n",
       "</style>\n",
       "<table border=\"1\" class=\"dataframe\">\n",
       "  <thead>\n",
       "    <tr style=\"text-align: right;\">\n",
       "      <th></th>\n",
       "      <th>Year</th>\n",
       "      <th>Electricity generation from other renewables</th>\n",
       "      <th>Electricity generation from hydropower</th>\n",
       "      <th>Electricity generation from solar</th>\n",
       "      <th>Electricity generation from wind</th>\n",
       "      <th>Electricity generation from nuclear</th>\n",
       "      <th>Net electricity imports</th>\n",
       "      <th>Electricity generation from oil</th>\n",
       "      <th>Electricity generation from gas</th>\n",
       "      <th>Electricity generation from coal</th>\n",
       "    </tr>\n",
       "  </thead>\n",
       "  <tbody>\n",
       "    <tr>\n",
       "      <th>count</th>\n",
       "      <td>104.000000</td>\n",
       "      <td>104.000000</td>\n",
       "      <td>104.000000</td>\n",
       "      <td>104.000000</td>\n",
       "      <td>104.000000</td>\n",
       "      <td>104.000000</td>\n",
       "      <td>104.000000</td>\n",
       "      <td>104.000000</td>\n",
       "      <td>104.000000</td>\n",
       "      <td>104.000000</td>\n",
       "    </tr>\n",
       "    <tr>\n",
       "      <th>mean</th>\n",
       "      <td>1971.500000</td>\n",
       "      <td>4.670287</td>\n",
       "      <td>3.199265</td>\n",
       "      <td>1.103116</td>\n",
       "      <td>6.693356</td>\n",
       "      <td>34.180114</td>\n",
       "      <td>4.695827</td>\n",
       "      <td>15.758488</td>\n",
       "      <td>38.198084</td>\n",
       "      <td>94.977156</td>\n",
       "    </tr>\n",
       "    <tr>\n",
       "      <th>std</th>\n",
       "      <td>30.166206</td>\n",
       "      <td>10.227955</td>\n",
       "      <td>1.968092</td>\n",
       "      <td>3.409059</td>\n",
       "      <td>18.171478</td>\n",
       "      <td>33.350000</td>\n",
       "      <td>7.280592</td>\n",
       "      <td>18.317284</td>\n",
       "      <td>60.018358</td>\n",
       "      <td>67.286544</td>\n",
       "    </tr>\n",
       "    <tr>\n",
       "      <th>min</th>\n",
       "      <td>1920.000000</td>\n",
       "      <td>0.000000</td>\n",
       "      <td>0.010000</td>\n",
       "      <td>0.000000</td>\n",
       "      <td>0.000000</td>\n",
       "      <td>0.000000</td>\n",
       "      <td>-4.210000</td>\n",
       "      <td>0.016422</td>\n",
       "      <td>0.000000</td>\n",
       "      <td>3.501464</td>\n",
       "    </tr>\n",
       "    <tr>\n",
       "      <th>25%</th>\n",
       "      <td>1945.750000</td>\n",
       "      <td>0.000000</td>\n",
       "      <td>1.120256</td>\n",
       "      <td>0.000000</td>\n",
       "      <td>0.000000</td>\n",
       "      <td>0.000000</td>\n",
       "      <td>0.000000</td>\n",
       "      <td>0.140808</td>\n",
       "      <td>0.000000</td>\n",
       "      <td>23.843851</td>\n",
       "    </tr>\n",
       "    <tr>\n",
       "      <th>50%</th>\n",
       "      <td>1971.500000</td>\n",
       "      <td>0.000000</td>\n",
       "      <td>3.877522</td>\n",
       "      <td>0.000000</td>\n",
       "      <td>0.000000</td>\n",
       "      <td>28.561000</td>\n",
       "      <td>0.000000</td>\n",
       "      <td>11.210000</td>\n",
       "      <td>0.816217</td>\n",
       "      <td>105.109978</td>\n",
       "    </tr>\n",
       "    <tr>\n",
       "      <th>75%</th>\n",
       "      <td>1997.250000</td>\n",
       "      <td>2.245000</td>\n",
       "      <td>4.773725</td>\n",
       "      <td>0.000000</td>\n",
       "      <td>0.715000</td>\n",
       "      <td>64.077500</td>\n",
       "      <td>10.555000</td>\n",
       "      <td>23.097488</td>\n",
       "      <td>96.850000</td>\n",
       "      <td>147.665000</td>\n",
       "    </tr>\n",
       "    <tr>\n",
       "      <th>max</th>\n",
       "      <td>2023.000000</td>\n",
       "      <td>40.052400</td>\n",
       "      <td>6.860000</td>\n",
       "      <td>13.920000</td>\n",
       "      <td>82.460000</td>\n",
       "      <td>99.490000</td>\n",
       "      <td>24.840000</td>\n",
       "      <td>87.053345</td>\n",
       "      <td>176.220000</td>\n",
       "      <td>211.460000</td>\n",
       "    </tr>\n",
       "  </tbody>\n",
       "</table>\n",
       "</div>"
      ],
      "text/plain": [
       "              Year  Electricity generation from other renewables  \\\n",
       "count   104.000000                                    104.000000   \n",
       "mean   1971.500000                                      4.670287   \n",
       "std      30.166206                                     10.227955   \n",
       "min    1920.000000                                      0.000000   \n",
       "25%    1945.750000                                      0.000000   \n",
       "50%    1971.500000                                      0.000000   \n",
       "75%    1997.250000                                      2.245000   \n",
       "max    2023.000000                                     40.052400   \n",
       "\n",
       "       Electricity generation from hydropower  \\\n",
       "count                              104.000000   \n",
       "mean                                 3.199265   \n",
       "std                                  1.968092   \n",
       "min                                  0.010000   \n",
       "25%                                  1.120256   \n",
       "50%                                  3.877522   \n",
       "75%                                  4.773725   \n",
       "max                                  6.860000   \n",
       "\n",
       "       Electricity generation from solar  Electricity generation from wind  \\\n",
       "count                         104.000000                        104.000000   \n",
       "mean                            1.103116                          6.693356   \n",
       "std                             3.409059                         18.171478   \n",
       "min                             0.000000                          0.000000   \n",
       "25%                             0.000000                          0.000000   \n",
       "50%                             0.000000                          0.000000   \n",
       "75%                             0.000000                          0.715000   \n",
       "max                            13.920000                         82.460000   \n",
       "\n",
       "       Electricity generation from nuclear  Net electricity imports  \\\n",
       "count                           104.000000               104.000000   \n",
       "mean                             34.180114                 4.695827   \n",
       "std                              33.350000                 7.280592   \n",
       "min                               0.000000                -4.210000   \n",
       "25%                               0.000000                 0.000000   \n",
       "50%                              28.561000                 0.000000   \n",
       "75%                              64.077500                10.555000   \n",
       "max                              99.490000                24.840000   \n",
       "\n",
       "       Electricity generation from oil  Electricity generation from gas  \\\n",
       "count                       104.000000                       104.000000   \n",
       "mean                         15.758488                        38.198084   \n",
       "std                          18.317284                        60.018358   \n",
       "min                           0.016422                         0.000000   \n",
       "25%                           0.140808                         0.000000   \n",
       "50%                          11.210000                         0.816217   \n",
       "75%                          23.097488                        96.850000   \n",
       "max                          87.053345                       176.220000   \n",
       "\n",
       "       Electricity generation from coal  \n",
       "count                        104.000000  \n",
       "mean                          94.977156  \n",
       "std                           67.286544  \n",
       "min                            3.501464  \n",
       "25%                           23.843851  \n",
       "50%                          105.109978  \n",
       "75%                          147.665000  \n",
       "max                          211.460000  "
      ]
     },
     "execution_count": 6,
     "metadata": {},
     "output_type": "execute_result"
    }
   ],
   "source": [
    "electricity.describe()"
   ]
  },
  {
   "cell_type": "code",
   "execution_count": 7,
   "id": "c024849f-5637-4f1b-8081-c1b2ad771814",
   "metadata": {},
   "outputs": [
    {
     "data": {
      "text/plain": [
       "Entity                                          0\n",
       "Code                                            0\n",
       "Year                                            0\n",
       "Electricity generation from other renewables    0\n",
       "Electricity generation from hydropower          0\n",
       "Electricity generation from solar               0\n",
       "Electricity generation from wind                0\n",
       "Electricity generation from nuclear             0\n",
       "Net electricity imports                         0\n",
       "Electricity generation from oil                 0\n",
       "Electricity generation from gas                 0\n",
       "Electricity generation from coal                0\n",
       "dtype: int64"
      ]
     },
     "execution_count": 7,
     "metadata": {},
     "output_type": "execute_result"
    }
   ],
   "source": [
    "electricity.isnull().sum()"
   ]
  },
  {
   "cell_type": "code",
   "execution_count": 8,
   "id": "64014621-0c69-4364-a6e7-41b7bb161460",
   "metadata": {},
   "outputs": [],
   "source": [
    "Years = electricity['Year'].values,\n",
    "Renewable = electricity['Electricity generation from other renewables']\n",
    "Hydropower = electricity['Electricity generation from hydropower']\n",
    "Solar = electricity['Electricity generation from solar']\n",
    "Wind = electricity['Electricity generation from wind']\n",
    "Nuclear = electricity['Electricity generation from nuclear']\n",
    "Imports = electricity['Net electricity imports']\n",
    "Oil = electricity['Electricity generation from oil']\n",
    "Gas = electricity['Electricity generation from gas']\n",
    "Coal = electricity['Electricity generation from coal']"
   ]
  },
  {
   "cell_type": "code",
   "execution_count": 9,
   "id": "091e57b1-2b62-4c9d-b20b-50a0004faf22",
   "metadata": {},
   "outputs": [
    {
     "data": {
      "image/png": "[encoded data removed]",
      "text/plain": [
       "<Figure size 720x360 with 1 Axes>"
      ]
     },
     "metadata": {
      "needs_background": "light"
     },
     "output_type": "display_data"
    }
   ],
   "source": [
    "fig, ax = plt.subplots(figsize=(10, 5))\n",
    "\n",
    "colour_list = ['forestgreen', 'royalblue', 'gold', 'powderblue', 'mediumorchid', 'brown', 'orange', 'grey', 'black']\n",
    "label_list = ['Other Renewables', 'Hydropower', 'Solar', 'Wind', 'Nuclear', 'Imports', 'Oil', 'Gas', 'Coal']\n",
    "\n",
    "#subtitle\n",
    "plt.suptitle(\"The UK's energy journey\",\n",
    "    fontsize=24,\n",
    "    fontweight=\"bold\",\n",
    "    x=0.0,\n",
    "    ha=\"left\"\n",
    ")\n",
    "\n",
    "#Main Title\n",
    "\n",
    "plt.title(\"The UK's Journey to coal power phase-out\",  \n",
    "    fontsize=14,\n",
    "    fontweight=\"normal\",  \n",
    "    x=0.0,\n",
    "    ha=\"left\",\n",
    "    pad=25\n",
    ")\n",
    "# Adjust margins\n",
    "fig.subplots_adjust(\n",
    "    left=0,\n",
    "    right=1,\n",
    "    top=0.8\n",
    ")\n",
    "\n",
    "# Plot the stackplot\n",
    "ax.stackplot(electricity['Year'].values,\n",
    "             Renewable, Hydropower, Solar, Wind, Nuclear, Imports, Oil, Gas, Coal,\n",
    "             colors=colour_list,\n",
    "             labels=label_list)\n",
    "\n",
    "# Set tick params\n",
    "ax.xaxis.set_tick_params(labelsize='large')  \n",
    "\n",
    "# Add legend\n",
    "plt.legend(loc='upper left', frameon=False, fontsize='x-large', ncol=2)\n",
    "\n",
    "# Set x-axis limits\n",
    "plt.xlim(1920, 2023)\n",
    "\n",
    "plt.show()"
   ]
  },
  {
   "cell_type": "code",
   "execution_count": 14,
   "id": "76d4ee47-d79d-4b46-9b31-de64c4c882b1",
   "metadata": {},
   "outputs": [
    {
     "data": {
      "text/plain": [
       "(array([84.,  2.,  1.,  1.,  1.,  1.,  1.,  0.,  0.,  1.,  0.,  0.,  1.,\n",
       "         0.,  0.,  0.,  0.,  1.,  0.,  1.,  0.,  0.,  1.,  0.,  1.,  0.,\n",
       "         0.,  0.,  0.,  0.,  1.,  0.,  0.,  0.,  1.,  0.,  0.,  0.,  1.,\n",
       "         1.,  0.,  0.,  0.,  0.,  0.,  1.,  0.,  0.,  1.,  1.]),\n",
       " array([ 0.    ,  1.6492,  3.2984,  4.9476,  6.5968,  8.246 ,  9.8952,\n",
       "        11.5444, 13.1936, 14.8428, 16.492 , 18.1412, 19.7904, 21.4396,\n",
       "        23.0888, 24.738 , 26.3872, 28.0364, 29.6856, 31.3348, 32.984 ,\n",
       "        34.6332, 36.2824, 37.9316, 39.5808, 41.23  , 42.8792, 44.5284,\n",
       "        46.1776, 47.8268, 49.476 , 51.1252, 52.7744, 54.4236, 56.0728,\n",
       "        57.722 , 59.3712, 61.0204, 62.6696, 64.3188, 65.968 , 67.6172,\n",
       "        69.2664, 70.9156, 72.5648, 74.214 , 75.8632, 77.5124, 79.1616,\n",
       "        80.8108, 82.46  ]),\n",
       " <BarContainer object of 50 artists>)"
      ]
     },
     "execution_count": 14,
     "metadata": {},
     "output_type": "execute_result"
    },
    {
     "data": {
      "image/png": "[encoded data removed]",
      "text/plain": [
       "<Figure size 432x288 with 1 Axes>"
      ]
     },
     "metadata": {
      "needs_background": "light"
     },
     "output_type": "display_data"
    }
   ],
   "source": [
    "plt.hist(Wind, bins=50, color='orange', edgecolor='black')"
   ]
  },
  {
   "cell_type": "code",
   "execution_count": 21,
   "id": "88a9a69c-9aa3-485e-afe6-a5cd10ab13d1",
   "metadata": {},
   "outputs": [],
   "source": [
    "my_variable = 5.0"
   ]
  },
  {
   "cell_type": "code",
   "execution_count": 22,
   "id": "f707ec32-f4f8-4012-a19b-9f0547713c2f",
   "metadata": {},
   "outputs": [
    {
     "ename": "AttributeError",
     "evalue": "'float' object has no attribute 'info'",
     "output_type": "error",
     "traceback": [
      "\u001b[1;31m---------------------------------------------------------------------------\u001b[0m",
      "\u001b[1;31mAttributeError\u001b[0m                            Traceback (most recent call last)",
      "\u001b[1;32m~\\AppData\\Local\\Temp/ipykernel_7212/1029805620.py\u001b[0m in \u001b[0;36m<module>\u001b[1;34m\u001b[0m\n\u001b[1;32m----> 1\u001b[1;33m \u001b[0mmy_variable\u001b[0m\u001b[1;33m.\u001b[0m\u001b[0minfo\u001b[0m\u001b[1;33m(\u001b[0m\u001b[1;33m)\u001b[0m\u001b[1;33m\u001b[0m\u001b[1;33m\u001b[0m\u001b[0m\n\u001b[0m",
      "\u001b[1;31mAttributeError\u001b[0m: 'float' object has no attribute 'info'"
     ]
    }
   ],
   "source": [
    "my_variable.info()"
   ]
  },
  {
   "cell_type": "code",
   "execution_count": null,
   "id": "49741f64-4ddc-484d-a02c-037797a171dc",
   "metadata": {},
   "outputs": [],
   "source": []
  }
 ],
 "metadata": {
  "kernelspec": {
   "display_name": "Python 3 (ipykernel)",
   "language": "python",
   "name": "python3"
  },
  "language_info": {
   "codemirror_mode": {
    "name": "ipython",
    "version": 3
   },
   "file_extension": ".py",
   "mimetype": "text/x-python",
   "name": "python",
   "nbconvert_exporter": "python",
   "pygments_lexer": "ipython3",
   "version": "3.10.9"
  }
 },
 "nbformat": 4,
 "nbformat_minor": 5
}
